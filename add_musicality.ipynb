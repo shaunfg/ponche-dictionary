{
 "cells": [
  {
   "cell_type": "markdown",
   "id": "267d15fe-d494-4beb-9fb3-5a4cff7e35f7",
   "metadata": {},
   "source": [
    "# Form to Add Musicality"
   ]
  },
  {
   "cell_type": "code",
   "execution_count": 79,
   "id": "bf95a938-1e56-4d0f-a91d-8e3546d9c79c",
   "metadata": {},
   "outputs": [],
   "source": [
    "%run /Users/shaunfendigan/Documents/ponche-dictionary/utils.ipynb"
   ]
  },
  {
   "cell_type": "code",
   "execution_count": 83,
   "id": "3ca85f85-81c2-4475-b87d-e3d24db1e08d",
   "metadata": {
    "scrolled": true
   },
   "outputs": [
    {
     "data": {
      "text/html": [
       "<div>\n",
       "<style scoped>\n",
       "    .dataframe tbody tr th:only-of-type {\n",
       "        vertical-align: middle;\n",
       "    }\n",
       "\n",
       "    .dataframe tbody tr th {\n",
       "        vertical-align: top;\n",
       "    }\n",
       "\n",
       "    .dataframe thead th {\n",
       "        text-align: right;\n",
       "    }\n",
       "</style>\n",
       "<table border=\"1\" class=\"dataframe\">\n",
       "  <thead>\n",
       "    <tr style=\"text-align: right;\">\n",
       "      <th></th>\n",
       "      <th>song</th>\n",
       "      <th>artist</th>\n",
       "      <th>type</th>\n",
       "      <th>time</th>\n",
       "      <th>end_of_4th_measure</th>\n",
       "      <th>ponche_size</th>\n",
       "      <th>time_for_attention</th>\n",
       "      <th>hint</th>\n",
       "      <th>beat_count</th>\n",
       "      <th>measure</th>\n",
       "      <th>repeating</th>\n",
       "      <th>Lyric</th>\n",
       "    </tr>\n",
       "  </thead>\n",
       "  <tbody>\n",
       "    <tr>\n",
       "      <th>0</th>\n",
       "      <td>Modo Van Van</td>\n",
       "      <td>Formell y los Van Van</td>\n",
       "      <td>Ponche</td>\n",
       "      <td>2:56</td>\n",
       "      <td>True</td>\n",
       "      <td>Large</td>\n",
       "      <td>2:46</td>\n",
       "      <td>'Se Prend Dio!' is sung on the 2nd bar</td>\n",
       "      <td>NaN</td>\n",
       "      <td>None</td>\n",
       "      <td>None</td>\n",
       "      <td>None</td>\n",
       "    </tr>\n",
       "    <tr>\n",
       "      <th>1</th>\n",
       "      <td>La Cosa Mala</td>\n",
       "      <td>El Niño y la Verdad</td>\n",
       "      <td>Freeze/Cameralenta</td>\n",
       "      <td>4:08</td>\n",
       "      <td>False</td>\n",
       "      <td>None</td>\n",
       "      <td>4:02</td>\n",
       "      <td>Count down to when you have to call it \"4!,3!,...</td>\n",
       "      <td>12.0</td>\n",
       "      <td>2.75</td>\n",
       "      <td>None</td>\n",
       "      <td>None</td>\n",
       "    </tr>\n",
       "    <tr>\n",
       "      <th>2</th>\n",
       "      <td>Cabeza Loca</td>\n",
       "      <td>Manolito Simonet y su Trabuco</td>\n",
       "      <td>Freeze/Cameralenta</td>\n",
       "      <td>0:32</td>\n",
       "      <td>True</td>\n",
       "      <td>None</td>\n",
       "      <td>0:21</td>\n",
       "      <td>This one isn't too hard, you don't need to pay...</td>\n",
       "      <td>16.0</td>\n",
       "      <td></td>\n",
       "      <td>None</td>\n",
       "      <td>None</td>\n",
       "    </tr>\n",
       "    <tr>\n",
       "      <th>3</th>\n",
       "      <td>Cabeza Loca</td>\n",
       "      <td>Manolito Simonet y su Trabuco</td>\n",
       "      <td>Freeze/Cameralenta</td>\n",
       "      <td>1:24</td>\n",
       "      <td>True</td>\n",
       "      <td>None</td>\n",
       "      <td>1:13</td>\n",
       "      <td>This one isn't too hard, you don't need to pay...</td>\n",
       "      <td>16.0</td>\n",
       "      <td></td>\n",
       "      <td>None</td>\n",
       "      <td>None</td>\n",
       "    </tr>\n",
       "    <tr>\n",
       "      <th>4</th>\n",
       "      <td>Muevete</td>\n",
       "      <td>Manolito Simonet y su Trabuco</td>\n",
       "      <td>Ponche</td>\n",
       "      <td>1:37</td>\n",
       "      <td>False</td>\n",
       "      <td>Large</td>\n",
       "      <td>1:34</td>\n",
       "      <td>Like a Ponche with an 8 count freeze after!</td>\n",
       "      <td>NaN</td>\n",
       "      <td>2</td>\n",
       "      <td>None</td>\n",
       "      <td>None</td>\n",
       "    </tr>\n",
       "  </tbody>\n",
       "</table>\n",
       "</div>"
      ],
      "text/plain": [
       "           song                         artist                type  time  \\\n",
       "0  Modo Van Van          Formell y los Van Van              Ponche  2:56   \n",
       "1  La Cosa Mala            El Niño y la Verdad  Freeze/Cameralenta  4:08   \n",
       "2   Cabeza Loca  Manolito Simonet y su Trabuco  Freeze/Cameralenta  0:32   \n",
       "3   Cabeza Loca  Manolito Simonet y su Trabuco  Freeze/Cameralenta  1:24   \n",
       "4       Muevete  Manolito Simonet y su Trabuco              Ponche  1:37   \n",
       "\n",
       "  end_of_4th_measure ponche_size time_for_attention  \\\n",
       "0               True       Large               2:46   \n",
       "1              False        None               4:02   \n",
       "2               True        None               0:21   \n",
       "3               True        None               1:13   \n",
       "4              False       Large               1:34   \n",
       "\n",
       "                                                hint  beat_count measure  \\\n",
       "0             'Se Prend Dio!' is sung on the 2nd bar         NaN    None   \n",
       "1  Count down to when you have to call it \"4!,3!,...        12.0    2.75   \n",
       "2  This one isn't too hard, you don't need to pay...        16.0           \n",
       "3  This one isn't too hard, you don't need to pay...        16.0           \n",
       "4       Like a Ponche with an 8 count freeze after!          NaN       2   \n",
       "\n",
       "  repeating Lyric  \n",
       "0      None  None  \n",
       "1      None  None  \n",
       "2      None  None  \n",
       "3      None  None  \n",
       "4      None  None  "
      ]
     },
     "execution_count": 83,
     "metadata": {},
     "output_type": "execute_result"
    }
   ],
   "source": [
    "df = pd.read_json('musicality.json',orient = 'index')\n",
    "df.head()"
   ]
  },
  {
   "cell_type": "markdown",
   "id": "de597754-4239-43b3-82b7-56f89459d4af",
   "metadata": {},
   "source": [
    "## Backend for Easy Logging"
   ]
  },
  {
   "cell_type": "code",
   "execution_count": 85,
   "id": "69dd0cde-486e-4031-a0ac-6c836084bae7",
   "metadata": {},
   "outputs": [
    {
     "data": {
      "text/plain": [
       "{'time': Text(value='', description='Time:', placeholder='Type something'),\n",
       " 'hint': Textarea(value='', description='Hint:', placeholder='Type something')}"
      ]
     },
     "execution_count": 85,
     "metadata": {},
     "output_type": "execute_result"
    }
   ],
   "source": []
  },
  {
   "cell_type": "code",
   "execution_count": null,
   "id": "bc9d05a3-a1d6-4776-8bc4-397c2b34787d",
   "metadata": {},
   "outputs": [],
   "source": [
    "class Musicality:\n",
    "    def __init__(self,m_dict):\n",
    "        self.m_dict = m_dict\n",
    "        self.time = m_dict['time']\n",
    "        \n",
    "    def describe(self):\n",
    "        print(self.m_dict)\n",
    "\n",
    "class Ponche(Musicality):\n",
    "    def __init__(self,m_dict):\n",
    "        super().__init__(m_dict)\n",
    "        self.ponche_size = m_dict['ponche_size']\n",
    "        self.hint = m_dict['hint']\n",
    "        self.end_of_4th_measure = m_dict['end_of_4th_measure']\n"
   ]
  },
  {
   "cell_type": "code",
   "execution_count": 90,
   "id": "94272e54-0161-49c7-a3d9-1aae8c2490ac",
   "metadata": {},
   "outputs": [],
   "source": [
    "existing_song = widgets.ToggleButtons(\n",
    "    options=['No','Yes'],\n",
    "    description='Existing Song?',\n",
    "    disabled=False,\n",
    "    button_style='', # 'success', 'info', 'warning', 'danger' or ''\n",
    ")\n",
    "\n",
    "category = widgets.ToggleButtons(\n",
    "    options=musicality_options,\n",
    "    description='Musicality',\n",
    "    value = 'Ponche',\n",
    "    disabled=False,\n",
    "    button_style='', # 'success', 'info', 'warning', 'danger' or ''\n",
    "    tooltips=['Description of slow', 'Description of regular', 'Description of fast'],\n",
    "#     icons=['check'] * 3\n",
    ")\n",
    "\n",
    "base_widget_dict = {'time':widgets.Text(\n",
    "                                value='',\n",
    "                                placeholder='Type something',\n",
    "                                description='Time:',\n",
    "                                disabled=False ),\n",
    "                   'hint':widgets.Textarea(\n",
    "                        value='',\n",
    "                        placeholder='Type something',\n",
    "                        description='Hint:',\n",
    "                        disabled=False  ),}\n",
    "\n",
    "ponche_widget_dict = base_widget_dict.copy()\n",
    "ponche_widget_dict.update({\n",
    "               'ponche_size':widgets.ToggleButtons(\n",
    "                                    options=['Small','Medium','Large'],\n",
    "                                    description='Ponche Size',\n",
    "                                    disabled=False,\n",
    "                                    button_style='',), \n",
    "                \n",
    "                'time_for_attention':widgets.Text(\n",
    "                                value='',\n",
    "                                placeholder='Type something',\n",
    "                                description='Attn Time:',\n",
    "                                disabled=False ),\n",
    "               \n",
    "                'end_of_4th_measure':widgets.ToggleButtons(\n",
    "                                    options=['False','True'],\n",
    "                                    description='End of the 4th Measure?',\n",
    "                                    disabled=False,\n",
    "                                    button_style='')})\n",
    "\n",
    "tresillo_widget_dict = {\n",
    "                'time_for_attention':widgets.Text(\n",
    "                                value='',\n",
    "                                placeholder='Type something',\n",
    "                                description='Attn Time:',\n",
    "                                disabled=False ),\n",
    "                'repeating':widgets.ToggleButtons(\n",
    "                    options=['False','True'],\n",
    "                    description='Repeats?',\n",
    "                    disabled=False,\n",
    "                    button_style=''),\n",
    "                'end_of_4th_measure':widgets.ToggleButtons(\n",
    "                                    options=['False','True'],\n",
    "                                    description='End of the 4th Measure?',\n",
    "                                    disabled=False,\n",
    "                                    button_style='')}\n",
    "\n",
    "freeze_widget_dict = {\n",
    "               'beat_count':widgets.FloatSlider(\n",
    "                                value=8,\n",
    "                                min=0,\n",
    "                                max=16.0,\n",
    "                                step=0.5,\n",
    "                                description='Beat Count:',\n",
    "                                disabled=False,\n",
    "                                continuous_update=False,\n",
    "                                orientation='horizontal',\n",
    "                                readout=True,\n",
    "                                readout_format='.1f',\n",
    "                            ),                \n",
    "                'time':widgets.Text(\n",
    "                                value='',\n",
    "                                placeholder='Type something',\n",
    "                                description='Time:',\n",
    "                                disabled=False ),\n",
    "                'time_for_attention':widgets.Text(\n",
    "                                value='',\n",
    "                                placeholder='Type something',\n",
    "                                description='Attn Time:',\n",
    "                                disabled=False ),\n",
    "               'hint':widgets.Textarea(\n",
    "                        value='',\n",
    "                        placeholder='Type something',\n",
    "                        description='Hint:',\n",
    "                        disabled=False  ),\n",
    "                'end_of_4th_measure':widgets.ToggleButtons(\n",
    "                                    options=['False','True'],\n",
    "                                    description='End of the 4th Measure?',\n",
    "                                    disabled=False,\n",
    "                                    button_style='')}\n",
    "\n",
    "quattro_widget_dict = {   \n",
    "                'repeating':widgets.ToggleButtons(\n",
    "                                    options=['False','True'],\n",
    "                                    description='Repeats?',\n",
    "                                    disabled=False,\n",
    "                                    button_style=''),\n",
    "                'time':widgets.Text(\n",
    "                                value='',\n",
    "                                placeholder='Type something',\n",
    "                                description='Time:',\n",
    "                                disabled=False ),\n",
    "                'time_for_attention':widgets.Text(\n",
    "                                value='',\n",
    "                                placeholder='Type something',\n",
    "                                description='Attn Time:',\n",
    "                                disabled=False ),\n",
    "               'hint':widgets.Textarea(\n",
    "                        value='',\n",
    "                        placeholder='Type something',\n",
    "                        description='Hint:',\n",
    "                        disabled=False  )}\n",
    "\n",
    "son_widget_dict = {  \n",
    "                'time':widgets.Text(\n",
    "                                value='',\n",
    "                                placeholder='Type something',\n",
    "                                description='Time:',\n",
    "                                disabled=False ),\n",
    "               'hint':widgets.Textarea(\n",
    "                        value='',\n",
    "                        placeholder='Type something',\n",
    "                        description='Hint:',\n",
    "                        disabled=False  )}\n",
    "\n",
    "ono_widget_dict = {  \n",
    "                'Lyric':widgets.Text(\n",
    "                                value='',\n",
    "                                placeholder='Type something',\n",
    "                                description='Lyric:',\n",
    "                                disabled=False ),\n",
    "                'time':widgets.Text(\n",
    "                                value='',\n",
    "                                placeholder='Type something',\n",
    "                                description='Time:',\n",
    "                                disabled=False ),\n",
    "               'hint':widgets.Textarea(\n",
    "                        value='',\n",
    "                        placeholder='Type something',\n",
    "                        description='Hint:',\n",
    "                        disabled=False  )}\n",
    "\n",
    "\n",
    "widget_loader = {'Ponche':ponche_widget_dict,\n",
    "                 'Freeze/Cameralenta':freeze_widget_dict,\n",
    "                 \"Quattro\":quattro_widget_dict,\n",
    "                 \"Cinco\":quattro_widget_dict,\n",
    "                 \"Seis\":quattro_widget_dict,\n",
    "                 \"Siete\":quattro_widget_dict,\n",
    "                 \"Tresillo\":tresillo_widget_dict,\n",
    "                 \"Son\":son_widget_dict,\n",
    "                 \"Onomatopoeia\":ono_widget_dict}\n",
    "\n",
    "measure = widgets.Text(value='',\n",
    "                                placeholder='Type something',\n",
    "                                description='Measure:',\n",
    "                                disabled=False )\n",
    "null_button = widgets.Button(description='End of 4th')\n",
    "stack = widgets.Stack([measure,null_button], selected_index=0)\n",
    "\n",
    "# for k,v in widget_loader.items():\n",
    "widgets.jslink((widget_loader['Ponche']['end_of_4th_measure'], 'index'), (stack, 'selected_index'));\n",
    "widgets.jslink((widget_loader['Freeze/Cameralenta']['end_of_4th_measure'], 'index'), (stack, 'selected_index'));\n",
    "widgets.jslink((widget_loader['Tresillo']['end_of_4th_measure'], 'index'), (stack, 'selected_index'));\n"
   ]
  },
  {
   "cell_type": "markdown",
   "id": "a60b80d3-54f1-4fbd-a048-5f47e46de0e0",
   "metadata": {},
   "source": [
    "## Form\n",
    "* TODO: Add another layer category for Chiquita\n",
    "\n",
    "https://docs.google.com/presentation/d/1hT8gMmzLzvsgKHcpExEDMfwXWx1ssOI9/edit#slide=id.p14"
   ]
  },
  {
   "cell_type": "code",
   "execution_count": 82,
   "id": "257dcaa4-0771-4f9d-95af-5bd5a204028e",
   "metadata": {},
   "outputs": [
    {
     "data": {
      "application/vnd.jupyter.widget-view+json": {
       "model_id": "6e674d2c59064934861cf13025cf55b9",
       "version_major": 2,
       "version_minor": 0
      },
      "text/plain": [
       "ToggleButtons(description='Existing Song?', options=('No', 'Yes'), value='No')"
      ]
     },
     "metadata": {},
     "output_type": "display_data"
    },
    {
     "data": {
      "application/vnd.jupyter.widget-view+json": {
       "model_id": "52f69dad4fb147c294e2236aefb7aedc",
       "version_major": 2,
       "version_minor": 0
      },
      "text/plain": [
       "ToggleButtons(description='Musicality', options=('Ponche', 'Quattro', 'Cinco', 'Seis', 'Siete', 'Aguanta', 'Tr…"
      ]
     },
     "metadata": {},
     "output_type": "display_data"
    }
   ],
   "source": [
    "display(existing_song), display(category);"
   ]
  },
  {
   "cell_type": "code",
   "execution_count": 74,
   "id": "1041de14-8810-494d-9248-463b7ecc3977",
   "metadata": {},
   "outputs": [],
   "source": [
    "song,artist = song_artist(existing_song,df = df)"
   ]
  },
  {
   "cell_type": "code",
   "execution_count": 75,
   "id": "7258fb37-81ba-4a40-83cc-5250ddd0a7b8",
   "metadata": {},
   "outputs": [
    {
     "data": {
      "application/vnd.jupyter.widget-view+json": {
       "model_id": "ed5a5840a0d947bbb9c52e007d09dbbb",
       "version_major": 2,
       "version_minor": 0
      },
      "text/plain": [
       "Dropdown(description='Song:', options=('Modo Van Van', 'La Cosa Mala', 'Cabeza Loca', 'Muevete', 'Lola, Lola',…"
      ]
     },
     "metadata": {},
     "output_type": "display_data"
    },
    {
     "data": {
      "application/vnd.jupyter.widget-view+json": {
       "model_id": "40fd13ae09914a819ae6524a8d1695a0",
       "version_major": 2,
       "version_minor": 0
      },
      "text/plain": [
       "Dropdown(description='Artist:', options=('Formell y los Van Van', 'El Niño y la Verdad', 'Manolito Simonet y s…"
      ]
     },
     "metadata": {},
     "output_type": "display_data"
    },
    {
     "data": {
      "application/vnd.jupyter.widget-view+json": {
       "model_id": "bae742e3f68148ec9ed06cc43a93eace",
       "version_major": 2,
       "version_minor": 0
      },
      "text/plain": [
       "Text(value='', description='Lyric:', placeholder='Type something')"
      ]
     },
     "metadata": {},
     "output_type": "display_data"
    },
    {
     "data": {
      "application/vnd.jupyter.widget-view+json": {
       "model_id": "bfda9a893bd840ecb038f8e06caa7386",
       "version_major": 2,
       "version_minor": 0
      },
      "text/plain": [
       "Text(value='', description='Time:', placeholder='Type something')"
      ]
     },
     "metadata": {},
     "output_type": "display_data"
    },
    {
     "data": {
      "application/vnd.jupyter.widget-view+json": {
       "model_id": "7e5a69d420bf4fa5a826b72b2a6d08b4",
       "version_major": 2,
       "version_minor": 0
      },
      "text/plain": [
       "Textarea(value='', description='Hint:', placeholder='Type something')"
      ]
     },
     "metadata": {},
     "output_type": "display_data"
    }
   ],
   "source": [
    "display(song), display(artist),\n",
    "for k,v in widget_loader[category.value].items():\n",
    "    display(v) \n",
    "if category.value in ['Ponche','Freeze/Cameralenta','Tresillo']:\n",
    "    display(stack)"
   ]
  },
  {
   "cell_type": "markdown",
   "id": "2c364387-0e2e-4961-897a-2fb555ebdc25",
   "metadata": {},
   "source": [
    "## Save Output"
   ]
  },
  {
   "cell_type": "code",
   "execution_count": 76,
   "id": "e51c8ee5-7752-4342-8203-ce9de570fc3b",
   "metadata": {},
   "outputs": [
    {
     "data": {
      "text/plain": [
       "{'song': 'Lola, Lola',\n",
       " 'artist': 'David Calzado y su Charanga Habanera',\n",
       " 'type': 'Onomatopoeia',\n",
       " 'Lyric': 'EEH',\n",
       " 'time': '0:10',\n",
       " 'hint': '',\n",
       " 'measure': ''}"
      ]
     },
     "execution_count": 76,
     "metadata": {},
     "output_type": "execute_result"
    }
   ],
   "source": [
    "data_json = {\n",
    "    'song':song.value,\n",
    "    'artist':artist.value,\n",
    "    'type':category.value,\n",
    "}\n",
    "data_json.update({k:v.value for k,v in widget_loader[category.value].items()})\n",
    "data_json.update({'measure':measure.value})\n",
    "data_json"
   ]
  },
  {
   "cell_type": "code",
   "execution_count": 77,
   "id": "26a726c2-56d8-4ed7-b46c-bebf0c17555b",
   "metadata": {},
   "outputs": [
    {
     "data": {
      "text/html": [
       "<div>\n",
       "<style scoped>\n",
       "    .dataframe tbody tr th:only-of-type {\n",
       "        vertical-align: middle;\n",
       "    }\n",
       "\n",
       "    .dataframe tbody tr th {\n",
       "        vertical-align: top;\n",
       "    }\n",
       "\n",
       "    .dataframe thead th {\n",
       "        text-align: right;\n",
       "    }\n",
       "</style>\n",
       "<table border=\"1\" class=\"dataframe\">\n",
       "  <thead>\n",
       "    <tr style=\"text-align: right;\">\n",
       "      <th></th>\n",
       "      <th>song</th>\n",
       "      <th>artist</th>\n",
       "      <th>type</th>\n",
       "      <th>time</th>\n",
       "      <th>end_of_4th_measure</th>\n",
       "      <th>ponche_size</th>\n",
       "      <th>time_for_attention</th>\n",
       "      <th>hint</th>\n",
       "      <th>beat_count</th>\n",
       "      <th>measure</th>\n",
       "      <th>repeating</th>\n",
       "      <th>Lyric</th>\n",
       "    </tr>\n",
       "  </thead>\n",
       "  <tbody>\n",
       "    <tr>\n",
       "      <th>31</th>\n",
       "      <td>Abreme la puerta</td>\n",
       "      <td>Calle Real</td>\n",
       "      <td>Onomatopoeia</td>\n",
       "      <td>0:02</td>\n",
       "      <td>None</td>\n",
       "      <td>None</td>\n",
       "      <td>None</td>\n",
       "      <td></td>\n",
       "      <td>NaN</td>\n",
       "      <td>2</td>\n",
       "      <td>None</td>\n",
       "      <td>Si!</td>\n",
       "    </tr>\n",
       "    <tr>\n",
       "      <th>32</th>\n",
       "      <td>Barbaridad</td>\n",
       "      <td>Juan de Marcos Afrocuban All Stars</td>\n",
       "      <td>Tresillo</td>\n",
       "      <td>1:34</td>\n",
       "      <td>True</td>\n",
       "      <td>None</td>\n",
       "      <td>1:27</td>\n",
       "      <td>The 1st one happens after the 3rd measure. Rep...</td>\n",
       "      <td>NaN</td>\n",
       "      <td></td>\n",
       "      <td>True</td>\n",
       "      <td>None</td>\n",
       "    </tr>\n",
       "    <tr>\n",
       "      <th>33</th>\n",
       "      <td>Lola, Lola</td>\n",
       "      <td>David Calzado y su Charanga Habanera</td>\n",
       "      <td>Quattro</td>\n",
       "      <td>0:10</td>\n",
       "      <td>None</td>\n",
       "      <td>None</td>\n",
       "      <td></td>\n",
       "      <td>Repeats throughout the whole song!</td>\n",
       "      <td>NaN</td>\n",
       "      <td></td>\n",
       "      <td>True</td>\n",
       "      <td>None</td>\n",
       "    </tr>\n",
       "    <tr>\n",
       "      <th>34</th>\n",
       "      <td>Lola, Lola</td>\n",
       "      <td>David Calzado y su Charanga Habanera</td>\n",
       "      <td>Cinco</td>\n",
       "      <td>1:44</td>\n",
       "      <td>None</td>\n",
       "      <td>None</td>\n",
       "      <td></td>\n",
       "      <td>After the Lola, Lola quattro, on the next measure</td>\n",
       "      <td>NaN</td>\n",
       "      <td></td>\n",
       "      <td>True</td>\n",
       "      <td>None</td>\n",
       "    </tr>\n",
       "    <tr>\n",
       "      <th>35</th>\n",
       "      <td>Lola, Lola</td>\n",
       "      <td>David Calzado y su Charanga Habanera</td>\n",
       "      <td>Onomatopoeia</td>\n",
       "      <td>0:10</td>\n",
       "      <td>NaN</td>\n",
       "      <td>NaN</td>\n",
       "      <td>NaN</td>\n",
       "      <td></td>\n",
       "      <td>NaN</td>\n",
       "      <td></td>\n",
       "      <td>NaN</td>\n",
       "      <td>EEH</td>\n",
       "    </tr>\n",
       "  </tbody>\n",
       "</table>\n",
       "</div>"
      ],
      "text/plain": [
       "                song                                artist          type  \\\n",
       "31  Abreme la puerta                            Calle Real  Onomatopoeia   \n",
       "32        Barbaridad    Juan de Marcos Afrocuban All Stars      Tresillo   \n",
       "33        Lola, Lola  David Calzado y su Charanga Habanera       Quattro   \n",
       "34        Lola, Lola  David Calzado y su Charanga Habanera         Cinco   \n",
       "35        Lola, Lola  David Calzado y su Charanga Habanera  Onomatopoeia   \n",
       "\n",
       "    time end_of_4th_measure ponche_size time_for_attention  \\\n",
       "31  0:02               None        None               None   \n",
       "32  1:34               True        None               1:27   \n",
       "33  0:10               None        None                      \n",
       "34  1:44               None        None                      \n",
       "35  0:10                NaN         NaN                NaN   \n",
       "\n",
       "                                                 hint  beat_count measure  \\\n",
       "31                                                            NaN       2   \n",
       "32  The 1st one happens after the 3rd measure. Rep...         NaN           \n",
       "33                Repeats throughout the whole song!          NaN           \n",
       "34  After the Lola, Lola quattro, on the next measure         NaN           \n",
       "35                                                            NaN           \n",
       "\n",
       "   repeating Lyric  \n",
       "31      None   Si!  \n",
       "32      True  None  \n",
       "33      True  None  \n",
       "34      True  None  \n",
       "35       NaN   EEH  "
      ]
     },
     "execution_count": 77,
     "metadata": {},
     "output_type": "execute_result"
    }
   ],
   "source": [
    "row = pd.DataFrame.from_dict(data_json, orient = 'index').T\n",
    "df = pd.read_json('musicality.json',orient = 'index')\n",
    "output_df = pd.concat([df,row]).reset_index(drop = True)\n",
    "output_df.tail()"
   ]
  },
  {
   "cell_type": "code",
   "execution_count": 78,
   "id": "8d590cad-32d3-44ab-bd38-2d8431f70862",
   "metadata": {},
   "outputs": [],
   "source": [
    "output_df.to_json('musicality.json',orient = 'index')"
   ]
  }
 ],
 "metadata": {
  "kernelspec": {
   "display_name": "Python 3 (ipykernel)",
   "language": "python",
   "name": "python3"
  },
  "language_info": {
   "codemirror_mode": {
    "name": "ipython",
    "version": 3
   },
   "file_extension": ".py",
   "mimetype": "text/x-python",
   "name": "python",
   "nbconvert_exporter": "python",
   "pygments_lexer": "ipython3",
   "version": "3.12.2"
  }
 },
 "nbformat": 4,
 "nbformat_minor": 5
}
