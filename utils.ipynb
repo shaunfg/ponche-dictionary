{
 "cells": [
  {
   "cell_type": "code",
   "execution_count": 4,
   "id": "770b5f49-45ea-4dc7-ae97-9a8d6c4273d4",
   "metadata": {},
   "outputs": [],
   "source": [
    "import json\n",
    "import os\n",
    "import ipywidgets as widgets\n",
    "from IPython.display import display\n",
    "import pandas as pd"
   ]
  },
  {
   "cell_type": "code",
   "execution_count": 5,
   "id": "ddbdcac1-3867-457b-90e8-cf849d8a46ca",
   "metadata": {},
   "outputs": [],
   "source": [
    "df = pd.read_json('musicality.json',orient = 'index')"
   ]
  },
  {
   "cell_type": "code",
   "execution_count": 6,
   "id": "c3a5600f-59dc-48e3-9409-2c5444632859",
   "metadata": {},
   "outputs": [],
   "source": [
    "musicality_options = ['Ponche','Quattro','Cinco','Seis','Siete','Aguanta','Tresillo','Freeze/Cameralenta', 'Son','Onomatopoeia']"
   ]
  },
  {
   "cell_type": "code",
   "execution_count": 7,
   "id": "62329465-f033-4ba9-93e5-3bee7c152585",
   "metadata": {},
   "outputs": [],
   "source": []
  },
  {
   "cell_type": "code",
   "execution_count": 8,
   "id": "e686a656-580e-49cc-b454-cb3cc683d4cc",
   "metadata": {},
   "outputs": [],
   "source": []
  },
  {
   "cell_type": "code",
   "execution_count": 9,
   "id": "ac97fcef-af54-4a1e-ac16-8597e1132d86",
   "metadata": {},
   "outputs": [],
   "source": [
    "def song_artist(existing_song,df = df):\n",
    "    if existing_song.value == 'Yes':\n",
    "        song = widgets.Dropdown(\n",
    "            options=df.song.unique(),\n",
    "            description='Song:',\n",
    "            disabled=False,\n",
    "        )\n",
    "        artist = widgets.Dropdown(\n",
    "            options=df.artist.unique(),\n",
    "            description='Artist:',\n",
    "            disabled=False,\n",
    "        )\n",
    "    else:\n",
    "        song = widgets.Text(value='',\n",
    "                            placeholder='Type something',\n",
    "                            description='Song:',\n",
    "                            disabled=False )\n",
    "        artist = widgets.Text(value='',\n",
    "                            placeholder='Type something',\n",
    "                            description='Artist:',\n",
    "                            disabled=False )\n",
    "    return song, artist"
   ]
  },
  {
   "cell_type": "code",
   "execution_count": null,
   "id": "9fb94a51-a65f-4866-9a36-e2404fda4a21",
   "metadata": {},
   "outputs": [],
   "source": []
  },
  {
   "cell_type": "code",
   "execution_count": null,
   "id": "ae361003-30ed-4d1c-9942-7bd9715362f3",
   "metadata": {},
   "outputs": [],
   "source": []
  }
 ],
 "metadata": {
  "kernelspec": {
   "display_name": "Python 3 (ipykernel)",
   "language": "python",
   "name": "python3"
  },
  "language_info": {
   "codemirror_mode": {
    "name": "ipython",
    "version": 3
   },
   "file_extension": ".py",
   "mimetype": "text/x-python",
   "name": "python",
   "nbconvert_exporter": "python",
   "pygments_lexer": "ipython3",
   "version": "3.12.2"
  }
 },
 "nbformat": 4,
 "nbformat_minor": 5
}
