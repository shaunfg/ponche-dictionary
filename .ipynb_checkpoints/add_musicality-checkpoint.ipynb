{
 "cells": [
  {
   "cell_type": "markdown",
   "id": "267d15fe-d494-4beb-9fb3-5a4cff7e35f7",
   "metadata": {},
   "source": [
    "# Form to Add Musicality"
   ]
  },
  {
   "cell_type": "code",
   "execution_count": 6,
   "id": "bf95a938-1e56-4d0f-a91d-8e3546d9c79c",
   "metadata": {},
   "outputs": [],
   "source": [
    "%run /Users/shaunfendigan/Documents/ponche-dictionary/utils.ipynb"
   ]
  },
  {
   "cell_type": "code",
   "execution_count": 2,
   "id": "3ca85f85-81c2-4475-b87d-e3d24db1e08d",
   "metadata": {
    "scrolled": true
   },
   "outputs": [
    {
     "data": {
      "text/html": [
       "<div>\n",
       "<style scoped>\n",
       "    .dataframe tbody tr th:only-of-type {\n",
       "        vertical-align: middle;\n",
       "    }\n",
       "\n",
       "    .dataframe tbody tr th {\n",
       "        vertical-align: top;\n",
       "    }\n",
       "\n",
       "    .dataframe thead th {\n",
       "        text-align: right;\n",
       "    }\n",
       "</style>\n",
       "<table border=\"1\" class=\"dataframe\">\n",
       "  <thead>\n",
       "    <tr style=\"text-align: right;\">\n",
       "      <th></th>\n",
       "      <th>song</th>\n",
       "      <th>artist</th>\n",
       "      <th>type</th>\n",
       "      <th>time</th>\n",
       "      <th>end_of_4th_measure</th>\n",
       "      <th>ponche_size</th>\n",
       "      <th>time_for_attention</th>\n",
       "      <th>hint</th>\n",
       "      <th>beat_count</th>\n",
       "      <th>measure</th>\n",
       "      <th>repeating</th>\n",
       "      <th>Lyric</th>\n",
       "    </tr>\n",
       "  </thead>\n",
       "  <tbody>\n",
       "    <tr>\n",
       "      <th>0</th>\n",
       "      <td>Modo Van Van</td>\n",
       "      <td>Formell y los Van Van</td>\n",
       "      <td>Ponche</td>\n",
       "      <td>2:56</td>\n",
       "      <td>True</td>\n",
       "      <td>Large</td>\n",
       "      <td>2:46</td>\n",
       "      <td>'Se Prend Dio!' is sung on the 2nd bar</td>\n",
       "      <td>NaN</td>\n",
       "      <td>None</td>\n",
       "      <td>None</td>\n",
       "      <td>None</td>\n",
       "    </tr>\n",
       "    <tr>\n",
       "      <th>1</th>\n",
       "      <td>La Cosa Mala</td>\n",
       "      <td>El Niño y la Verdad</td>\n",
       "      <td>Freeze/Cameralenta</td>\n",
       "      <td>4:08</td>\n",
       "      <td>False</td>\n",
       "      <td>None</td>\n",
       "      <td>4:02</td>\n",
       "      <td>Count down to when you have to call it \"4!,3!,...</td>\n",
       "      <td>12.0</td>\n",
       "      <td>2.75</td>\n",
       "      <td>None</td>\n",
       "      <td>None</td>\n",
       "    </tr>\n",
       "    <tr>\n",
       "      <th>2</th>\n",
       "      <td>Cabeza Loca</td>\n",
       "      <td>Manolito Simonet y su Trabuco</td>\n",
       "      <td>Freeze/Cameralenta</td>\n",
       "      <td>0:32</td>\n",
       "      <td>True</td>\n",
       "      <td>None</td>\n",
       "      <td>0:21</td>\n",
       "      <td>This one isn't too hard, you don't need to pay...</td>\n",
       "      <td>16.0</td>\n",
       "      <td></td>\n",
       "      <td>None</td>\n",
       "      <td>None</td>\n",
       "    </tr>\n",
       "    <tr>\n",
       "      <th>3</th>\n",
       "      <td>Cabeza Loca</td>\n",
       "      <td>Manolito Simonet y su Trabuco</td>\n",
       "      <td>Freeze/Cameralenta</td>\n",
       "      <td>1:24</td>\n",
       "      <td>True</td>\n",
       "      <td>None</td>\n",
       "      <td>1:13</td>\n",
       "      <td>This one isn't too hard, you don't need to pay...</td>\n",
       "      <td>16.0</td>\n",
       "      <td></td>\n",
       "      <td>None</td>\n",
       "      <td>None</td>\n",
       "    </tr>\n",
       "    <tr>\n",
       "      <th>4</th>\n",
       "      <td>Muevete</td>\n",
       "      <td>Manolito Simonet y su Trabuco</td>\n",
       "      <td>Ponche</td>\n",
       "      <td>1:37</td>\n",
       "      <td>False</td>\n",
       "      <td>Large</td>\n",
       "      <td>1:34</td>\n",
       "      <td>Like a Ponche with an 8 count freeze after!</td>\n",
       "      <td>NaN</td>\n",
       "      <td>2</td>\n",
       "      <td>None</td>\n",
       "      <td>None</td>\n",
       "    </tr>\n",
       "  </tbody>\n",
       "</table>\n",
       "</div>"
      ],
      "text/plain": [
       "           song                         artist                type  time  \\\n",
       "0  Modo Van Van          Formell y los Van Van              Ponche  2:56   \n",
       "1  La Cosa Mala            El Niño y la Verdad  Freeze/Cameralenta  4:08   \n",
       "2   Cabeza Loca  Manolito Simonet y su Trabuco  Freeze/Cameralenta  0:32   \n",
       "3   Cabeza Loca  Manolito Simonet y su Trabuco  Freeze/Cameralenta  1:24   \n",
       "4       Muevete  Manolito Simonet y su Trabuco              Ponche  1:37   \n",
       "\n",
       "  end_of_4th_measure ponche_size time_for_attention  \\\n",
       "0               True       Large               2:46   \n",
       "1              False        None               4:02   \n",
       "2               True        None               0:21   \n",
       "3               True        None               1:13   \n",
       "4              False       Large               1:34   \n",
       "\n",
       "                                                hint  beat_count measure  \\\n",
       "0             'Se Prend Dio!' is sung on the 2nd bar         NaN    None   \n",
       "1  Count down to when you have to call it \"4!,3!,...        12.0    2.75   \n",
       "2  This one isn't too hard, you don't need to pay...        16.0           \n",
       "3  This one isn't too hard, you don't need to pay...        16.0           \n",
       "4       Like a Ponche with an 8 count freeze after!          NaN       2   \n",
       "\n",
       "  repeating Lyric  \n",
       "0      None  None  \n",
       "1      None  None  \n",
       "2      None  None  \n",
       "3      None  None  \n",
       "4      None  None  "
      ]
     },
     "execution_count": 2,
     "metadata": {},
     "output_type": "execute_result"
    }
   ],
   "source": [
    "df = pd.read_json('musicality.json',orient = 'index')\n",
    "df.head()"
   ]
  },
  {
   "cell_type": "markdown",
   "id": "a60b80d3-54f1-4fbd-a048-5f47e46de0e0",
   "metadata": {},
   "source": [
    "## Form\n",
    "* TODO: Add another layer category for Chiquita\n",
    "\n",
    "https://docs.google.com/presentation/d/1hT8gMmzLzvsgKHcpExEDMfwXWx1ssOI9/edit#slide=id.p14"
   ]
  },
  {
   "cell_type": "code",
   "execution_count": 3,
   "id": "257dcaa4-0771-4f9d-95af-5bd5a204028e",
   "metadata": {},
   "outputs": [
    {
     "data": {
      "application/vnd.jupyter.widget-view+json": {
       "model_id": "6daae850e8994ef0b61e5906c6556a6f",
       "version_major": 2,
       "version_minor": 0
      },
      "text/plain": [
       "ToggleButtons(description='Existing Song?', options=('No', 'Yes'), value='No')"
      ]
     },
     "metadata": {},
     "output_type": "display_data"
    },
    {
     "data": {
      "application/vnd.jupyter.widget-view+json": {
       "model_id": "bd9b839541174cdf96f33b2ecaad4894",
       "version_major": 2,
       "version_minor": 0
      },
      "text/plain": [
       "ToggleButtons(description='Musicality', options=('Ponche', 'Quattro', 'Cinco', 'Seis', 'Siete', 'Aguanta', 'Tr…"
      ]
     },
     "metadata": {},
     "output_type": "display_data"
    }
   ],
   "source": [
    "display(existing_song), display(category);"
   ]
  },
  {
   "cell_type": "code",
   "execution_count": 25,
   "id": "551a38aa-ac52-4b85-a850-40963f935b1c",
   "metadata": {},
   "outputs": [
    {
     "data": {
      "application/vnd.jupyter.widget-view+json": {
       "model_id": "1e6258b824df4c879f949eec9c8c03f6",
       "version_major": 2,
       "version_minor": 0
      },
      "text/plain": [
       "Text(value='', description='Song:', placeholder='Type something')"
      ]
     },
     "metadata": {},
     "output_type": "display_data"
    },
    {
     "data": {
      "application/vnd.jupyter.widget-view+json": {
       "model_id": "4f9712befe164809bd89356123539e65",
       "version_major": 2,
       "version_minor": 0
      },
      "text/plain": [
       "Text(value='', description='Artist:', placeholder='Type something')"
      ]
     },
     "metadata": {},
     "output_type": "display_data"
    },
    {
     "data": {
      "application/vnd.jupyter.widget-view+json": {
       "model_id": "aeab6aa897f54fad88519dfb0dca12e5",
       "version_major": 2,
       "version_minor": 0
      },
      "text/plain": [
       "Text(value='', description='Time:', placeholder='Type something')"
      ]
     },
     "metadata": {},
     "output_type": "display_data"
    },
    {
     "data": {
      "application/vnd.jupyter.widget-view+json": {
       "model_id": "a37c31828db54d45a697d8bd6d90c32b",
       "version_major": 2,
       "version_minor": 0
      },
      "text/plain": [
       "Textarea(value='', description='Hint:', placeholder='Type something')"
      ]
     },
     "metadata": {},
     "output_type": "display_data"
    },
    {
     "data": {
      "application/vnd.jupyter.widget-view+json": {
       "model_id": "5136fb91edd942ecb45e381a69a4ea64",
       "version_major": 2,
       "version_minor": 0
      },
      "text/plain": [
       "Text(value='', description='Attn Time:', placeholder='Type something')"
      ]
     },
     "metadata": {},
     "output_type": "display_data"
    },
    {
     "data": {
      "application/vnd.jupyter.widget-view+json": {
       "model_id": "1daa30ff6a134c069e6d78726c009c72",
       "version_major": 2,
       "version_minor": 0
      },
      "text/plain": [
       "ToggleButtons(description='Ponche Size', options=('Small', 'Medium', 'Large'), value='Small')"
      ]
     },
     "metadata": {},
     "output_type": "display_data"
    },
    {
     "data": {
      "application/vnd.jupyter.widget-view+json": {
       "model_id": "c62322e65543470d9df1aea685ea86ac",
       "version_major": 2,
       "version_minor": 0
      },
      "text/plain": [
       "ToggleButtons(description='End of the 4th Measure?', options=('False', 'True'), value='False')"
      ]
     },
     "metadata": {},
     "output_type": "display_data"
    },
    {
     "data": {
      "application/vnd.jupyter.widget-view+json": {
       "model_id": "1233839694a04ba9bea6b0a6b6fd25bb",
       "version_major": 2,
       "version_minor": 0
      },
      "text/plain": [
       "Text(value='', description='Measure:', placeholder='Leave Blank if 4')"
      ]
     },
     "metadata": {},
     "output_type": "display_data"
    }
   ],
   "source": [
    "mw = MusicalityWidget(category.value,existing_song.value)\n",
    "for k,v in mw.widgets.items():\n",
    "    display(v) "
   ]
  },
  {
   "cell_type": "code",
   "execution_count": 26,
   "id": "a52cf296-b8a4-446b-8582-4912d8ede750",
   "metadata": {},
   "outputs": [],
   "source": [
    "%run /Users/shaunfendigan/Documents/ponche-dictionary/utils.ipynb"
   ]
  },
  {
   "cell_type": "code",
   "execution_count": 28,
   "id": "7b8cef13-1206-4371-b457-d8a25d4fd594",
   "metadata": {},
   "outputs": [
    {
     "data": {
      "text/plain": [
       "{'Song': Text(value='', description='Song:', placeholder='Type something'),\n",
       " 'artist': Text(value='', description='Artist:', placeholder='Type something'),\n",
       " 'time': Text(value='', description='Time:', placeholder='Type something'),\n",
       " 'hint': Textarea(value='', description='Hint:', placeholder='Type something'),\n",
       " 'time_for_attention': Text(value='', description='Attn Time:', placeholder='Type something'),\n",
       " 'ponche_size': ToggleButtons(description='Ponche Size', options=('Small', 'Medium', 'Large'), value='Small'),\n",
       " 'end_of_4th_measure': ToggleButtons(description='End of the 4th Measure?', options=('False', 'True'), value='False'),\n",
       " 'measure': Text(value='', description='Measure:', placeholder='Leave Blank if 4')}"
      ]
     },
     "execution_count": 28,
     "metadata": {},
     "output_type": "execute_result"
    }
   ],
   "source": [
    "mw.widgets"
   ]
  },
  {
   "cell_type": "code",
   "execution_count": 29,
   "id": "6b9f7db4-7e1c-4741-bd65-2e601fa1871b",
   "metadata": {},
   "outputs": [
    {
     "data": {
      "text/plain": [
       "{'type': 'Ponche',\n",
       " 'Song': '',\n",
       " 'artist': '',\n",
       " 'time': '',\n",
       " 'hint': '',\n",
       " 'time_for_attention': '',\n",
       " 'ponche_size': 'Small',\n",
       " 'end_of_4th_measure': 'False',\n",
       " 'measure': ''}"
      ]
     },
     "execution_count": 29,
     "metadata": {},
     "output_type": "execute_result"
    }
   ],
   "source": []
  },
  {
   "cell_type": "markdown",
   "id": "2c364387-0e2e-4961-897a-2fb555ebdc25",
   "metadata": {},
   "source": [
    "## Save Output"
   ]
  },
  {
   "cell_type": "code",
   "execution_count": 30,
   "id": "e51c8ee5-7752-4342-8203-ce9de570fc3b",
   "metadata": {},
   "outputs": [
    {
     "data": {
      "text/plain": [
       "{'type': 'Ponche',\n",
       " 'Song': '',\n",
       " 'artist': '',\n",
       " 'time': '',\n",
       " 'hint': '',\n",
       " 'time_for_attention': '',\n",
       " 'ponche_size': 'Small',\n",
       " 'end_of_4th_measure': 'False',\n",
       " 'measure': ''}"
      ]
     },
     "execution_count": 30,
     "metadata": {},
     "output_type": "execute_result"
    }
   ],
   "source": [
    "mw.get_json()"
   ]
  },
  {
   "cell_type": "code",
   "execution_count": 77,
   "id": "26a726c2-56d8-4ed7-b46c-bebf0c17555b",
   "metadata": {},
   "outputs": [
    {
     "data": {
      "text/html": [
       "<div>\n",
       "<style scoped>\n",
       "    .dataframe tbody tr th:only-of-type {\n",
       "        vertical-align: middle;\n",
       "    }\n",
       "\n",
       "    .dataframe tbody tr th {\n",
       "        vertical-align: top;\n",
       "    }\n",
       "\n",
       "    .dataframe thead th {\n",
       "        text-align: right;\n",
       "    }\n",
       "</style>\n",
       "<table border=\"1\" class=\"dataframe\">\n",
       "  <thead>\n",
       "    <tr style=\"text-align: right;\">\n",
       "      <th></th>\n",
       "      <th>song</th>\n",
       "      <th>artist</th>\n",
       "      <th>type</th>\n",
       "      <th>time</th>\n",
       "      <th>end_of_4th_measure</th>\n",
       "      <th>ponche_size</th>\n",
       "      <th>time_for_attention</th>\n",
       "      <th>hint</th>\n",
       "      <th>beat_count</th>\n",
       "      <th>measure</th>\n",
       "      <th>repeating</th>\n",
       "      <th>Lyric</th>\n",
       "    </tr>\n",
       "  </thead>\n",
       "  <tbody>\n",
       "    <tr>\n",
       "      <th>31</th>\n",
       "      <td>Abreme la puerta</td>\n",
       "      <td>Calle Real</td>\n",
       "      <td>Onomatopoeia</td>\n",
       "      <td>0:02</td>\n",
       "      <td>None</td>\n",
       "      <td>None</td>\n",
       "      <td>None</td>\n",
       "      <td></td>\n",
       "      <td>NaN</td>\n",
       "      <td>2</td>\n",
       "      <td>None</td>\n",
       "      <td>Si!</td>\n",
       "    </tr>\n",
       "    <tr>\n",
       "      <th>32</th>\n",
       "      <td>Barbaridad</td>\n",
       "      <td>Juan de Marcos Afrocuban All Stars</td>\n",
       "      <td>Tresillo</td>\n",
       "      <td>1:34</td>\n",
       "      <td>True</td>\n",
       "      <td>None</td>\n",
       "      <td>1:27</td>\n",
       "      <td>The 1st one happens after the 3rd measure. Rep...</td>\n",
       "      <td>NaN</td>\n",
       "      <td></td>\n",
       "      <td>True</td>\n",
       "      <td>None</td>\n",
       "    </tr>\n",
       "    <tr>\n",
       "      <th>33</th>\n",
       "      <td>Lola, Lola</td>\n",
       "      <td>David Calzado y su Charanga Habanera</td>\n",
       "      <td>Quattro</td>\n",
       "      <td>0:10</td>\n",
       "      <td>None</td>\n",
       "      <td>None</td>\n",
       "      <td></td>\n",
       "      <td>Repeats throughout the whole song!</td>\n",
       "      <td>NaN</td>\n",
       "      <td></td>\n",
       "      <td>True</td>\n",
       "      <td>None</td>\n",
       "    </tr>\n",
       "    <tr>\n",
       "      <th>34</th>\n",
       "      <td>Lola, Lola</td>\n",
       "      <td>David Calzado y su Charanga Habanera</td>\n",
       "      <td>Cinco</td>\n",
       "      <td>1:44</td>\n",
       "      <td>None</td>\n",
       "      <td>None</td>\n",
       "      <td></td>\n",
       "      <td>After the Lola, Lola quattro, on the next measure</td>\n",
       "      <td>NaN</td>\n",
       "      <td></td>\n",
       "      <td>True</td>\n",
       "      <td>None</td>\n",
       "    </tr>\n",
       "    <tr>\n",
       "      <th>35</th>\n",
       "      <td>Lola, Lola</td>\n",
       "      <td>David Calzado y su Charanga Habanera</td>\n",
       "      <td>Onomatopoeia</td>\n",
       "      <td>0:10</td>\n",
       "      <td>NaN</td>\n",
       "      <td>NaN</td>\n",
       "      <td>NaN</td>\n",
       "      <td></td>\n",
       "      <td>NaN</td>\n",
       "      <td></td>\n",
       "      <td>NaN</td>\n",
       "      <td>EEH</td>\n",
       "    </tr>\n",
       "  </tbody>\n",
       "</table>\n",
       "</div>"
      ],
      "text/plain": [
       "                song                                artist          type  \\\n",
       "31  Abreme la puerta                            Calle Real  Onomatopoeia   \n",
       "32        Barbaridad    Juan de Marcos Afrocuban All Stars      Tresillo   \n",
       "33        Lola, Lola  David Calzado y su Charanga Habanera       Quattro   \n",
       "34        Lola, Lola  David Calzado y su Charanga Habanera         Cinco   \n",
       "35        Lola, Lola  David Calzado y su Charanga Habanera  Onomatopoeia   \n",
       "\n",
       "    time end_of_4th_measure ponche_size time_for_attention  \\\n",
       "31  0:02               None        None               None   \n",
       "32  1:34               True        None               1:27   \n",
       "33  0:10               None        None                      \n",
       "34  1:44               None        None                      \n",
       "35  0:10                NaN         NaN                NaN   \n",
       "\n",
       "                                                 hint  beat_count measure  \\\n",
       "31                                                            NaN       2   \n",
       "32  The 1st one happens after the 3rd measure. Rep...         NaN           \n",
       "33                Repeats throughout the whole song!          NaN           \n",
       "34  After the Lola, Lola quattro, on the next measure         NaN           \n",
       "35                                                            NaN           \n",
       "\n",
       "   repeating Lyric  \n",
       "31      None   Si!  \n",
       "32      True  None  \n",
       "33      True  None  \n",
       "34      True  None  \n",
       "35       NaN   EEH  "
      ]
     },
     "execution_count": 77,
     "metadata": {},
     "output_type": "execute_result"
    }
   ],
   "source": [
    "row = pd.DataFrame.from_dict(data_json, orient = 'index').T\n",
    "df = pd.read_json('musicality.json',orient = 'index')\n",
    "output_df = pd.concat([df,row]).reset_index(drop = True)\n",
    "output_df.tail()"
   ]
  },
  {
   "cell_type": "code",
   "execution_count": 78,
   "id": "8d590cad-32d3-44ab-bd38-2d8431f70862",
   "metadata": {},
   "outputs": [],
   "source": [
    "output_df.to_json('musicality.json',orient = 'index')"
   ]
  }
 ],
 "metadata": {
  "kernelspec": {
   "display_name": "Python 3 (ipykernel)",
   "language": "python",
   "name": "python3"
  },
  "language_info": {
   "codemirror_mode": {
    "name": "ipython",
    "version": 3
   },
   "file_extension": ".py",
   "mimetype": "text/x-python",
   "name": "python",
   "nbconvert_exporter": "python",
   "pygments_lexer": "ipython3",
   "version": "3.12.2"
  }
 },
 "nbformat": 4,
 "nbformat_minor": 5
}
