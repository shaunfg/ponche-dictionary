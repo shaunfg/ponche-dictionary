{
 "cells": [
  {
   "cell_type": "code",
   "execution_count": 37,
   "id": "3c4af73d-fa79-46bd-9c1c-882d9f5e5be1",
   "metadata": {},
   "outputs": [],
   "source": [
    "import pandas as pd\n",
    "import json as json"
   ]
  },
  {
   "cell_type": "code",
   "execution_count": 139,
   "id": "46584605-bb94-4222-ad72-e9102ef0dc9e",
   "metadata": {},
   "outputs": [],
   "source": [
    "class Musicality:\n",
    "    def __init__(self,m_dict):\n",
    "        self.m_dict = m_dict\n",
    "        self.time = m_dict['time']\n",
    "        \n",
    "    def describe(self):\n",
    "        print(self.m_dict)\n",
    "\n",
    "class Ponche(Musicality):\n",
    "    def __init__(self,m_dict):\n",
    "        super().__init__(m_dict)\n",
    "        self.ponche_size = m_dict['ponche_size']\n",
    "        self.hint = m_dict['hint']\n",
    "        self.end_of_4th_measure = m_dict['end_of_4th_measure']\n"
   ]
  },
  {
   "cell_type": "code",
   "execution_count": 140,
   "id": "563d13ce-5ae1-4456-b6f2-221200fc9419",
   "metadata": {},
   "outputs": [],
   "source": [
    "class Song:\n",
    "    def __init__(self, song, artist):\n",
    "        self.song = song\n",
    "        self.artist = artist\n",
    "        self.musicality = []\n",
    "\n",
    "    def add_musicality(self,musicality_hit):\n",
    "        musicality_func = self._get_type(musicality_hit['type'])\n",
    "        m = musicality_func(musicality_hit)\n",
    "        self.musicality.append(m)\n",
    "\n",
    "    def _get_type(self,type):\n",
    "        print(type)\n",
    "        type_dict = {\"Ponche\":Ponche}\n",
    "        return type_dict[type]\n",
    "        \n",
    "    def describe_musicality(self):\n",
    "        return [x.describe() for x in self.musicality]"
   ]
  },
  {
   "cell_type": "code",
   "execution_count": 166,
   "id": "3d62b7cb-0d72-4822-9461-29d2c4c044b2",
   "metadata": {},
   "outputs": [],
   "source": [
    "ponche = {\n",
    "    \"song\":\"Modo Van Van\",\n",
    "    \"artist\":\"Formell y Los Van Van\",\n",
    "    \"type\":\"Ponche\",\n",
    "    \"time\":\"4:15\",\n",
    "    \"end_of_4th_measure\":\"True\",\n",
    "    \"ponche_size\":\"large\",\n",
    "    \"hint\":\"None\",\n",
    "}"
   ]
  },
  {
   "cell_type": "code",
   "execution_count": 180,
   "id": "8233f268-0ee9-4efe-a008-fbf9a32f4b59",
   "metadata": {},
   "outputs": [],
   "source": [
    "output = json.loads(\"\"\"[{\"song\":\"Modo Van Van\",\n",
    "    \"artist\":\"Formell y Los Van Van\",\n",
    "    \"type\":\"Ponche\",\n",
    "    \"time\":\"4:15\",\n",
    "    \"end_of_4th_measure\":\"True\",\n",
    "    \"ponche_size\":\"large\",\n",
    "    \"hint\":\"None\"},\n",
    "    {\"song\":\"Modo Van Van\",\n",
    "    \"artist\":\"Formell y Los Van Van\",\n",
    "    \"type\":\"Ponche\",\n",
    "    \"time\":\"4:15\",\n",
    "    \"end_of_4th_measure\":\"True\",\n",
    "    \"ponche_size\":\"large\",\n",
    "    \"hint\":\"None\"}]\"\"\")"
   ]
  },
  {
   "cell_type": "code",
   "execution_count": 181,
   "id": "49b27bd9-a724-4467-a1fa-57fe9cfb9475",
   "metadata": {},
   "outputs": [
    {
     "data": {
      "text/html": [
       "<div>\n",
       "<style scoped>\n",
       "    .dataframe tbody tr th:only-of-type {\n",
       "        vertical-align: middle;\n",
       "    }\n",
       "\n",
       "    .dataframe tbody tr th {\n",
       "        vertical-align: top;\n",
       "    }\n",
       "\n",
       "    .dataframe thead th {\n",
       "        text-align: right;\n",
       "    }\n",
       "</style>\n",
       "<table border=\"1\" class=\"dataframe\">\n",
       "  <thead>\n",
       "    <tr style=\"text-align: right;\">\n",
       "      <th></th>\n",
       "      <th>song</th>\n",
       "      <th>artist</th>\n",
       "      <th>type</th>\n",
       "      <th>time</th>\n",
       "      <th>end_of_4th_measure</th>\n",
       "      <th>ponche_size</th>\n",
       "      <th>hint</th>\n",
       "    </tr>\n",
       "  </thead>\n",
       "  <tbody>\n",
       "    <tr>\n",
       "      <th>0</th>\n",
       "      <td>Modo Van Van</td>\n",
       "      <td>Formell y Los Van Van</td>\n",
       "      <td>Ponche</td>\n",
       "      <td>4:15</td>\n",
       "      <td>True</td>\n",
       "      <td>large</td>\n",
       "      <td>None</td>\n",
       "    </tr>\n",
       "    <tr>\n",
       "      <th>1</th>\n",
       "      <td>Modo Van Van</td>\n",
       "      <td>Formell y Los Van Van</td>\n",
       "      <td>Ponche</td>\n",
       "      <td>4:15</td>\n",
       "      <td>True</td>\n",
       "      <td>large</td>\n",
       "      <td>None</td>\n",
       "    </tr>\n",
       "  </tbody>\n",
       "</table>\n",
       "</div>"
      ],
      "text/plain": [
       "           song                 artist    type  time end_of_4th_measure  \\\n",
       "0  Modo Van Van  Formell y Los Van Van  Ponche  4:15               True   \n",
       "1  Modo Van Van  Formell y Los Van Van  Ponche  4:15               True   \n",
       "\n",
       "  ponche_size  hint  \n",
       "0       large  None  \n",
       "1       large  None  "
      ]
     },
     "execution_count": 181,
     "metadata": {},
     "output_type": "execute_result"
    }
   ],
   "source": [
    "pd.json_normalize(output)"
   ]
  },
  {
   "cell_type": "code",
   "execution_count": 153,
   "id": "dac63cc2-e35c-45a7-bcdd-975b85cc38ee",
   "metadata": {},
   "outputs": [
    {
     "name": "stdout",
     "output_type": "stream",
     "text": [
      "{'song': 'Modo Van Van', 'artist': 'Formell y Los Van Van', 'musicality': {0: {'type': 'Ponche', 'time': '', 'end_of_4th_measure': True, 'ponche_size': 'large', 'hint': None}}}\n"
     ]
    }
   ],
   "source": [
    "musicality_list = [ponche]\n",
    "print(song)"
   ]
  },
  {
   "cell_type": "code",
   "execution_count": 142,
   "id": "397b43ba-2025-40bf-9f33-4880086fa4c7",
   "metadata": {},
   "outputs": [
    {
     "name": "stdout",
     "output_type": "stream",
     "text": [
      "Ponche\n"
     ]
    }
   ],
   "source": [
    "S = Song('Modo Van Van','Formell y Los Van Van')\n",
    "S.add_musicality(ponche)"
   ]
  },
  {
   "cell_type": "code",
   "execution_count": 147,
   "id": "ded57023-2463-4ecb-ab2c-78ee06fa4f5f",
   "metadata": {},
   "outputs": [
    {
     "data": {
      "text/plain": [
       "[<__main__.Ponche at 0x12aa6c2c0>]"
      ]
     },
     "execution_count": 147,
     "metadata": {},
     "output_type": "execute_result"
    }
   ],
   "source": [
    "S.musicality"
   ]
  },
  {
   "cell_type": "code",
   "execution_count": 144,
   "id": "11e02e36-d28c-472b-b3b0-d37006b9e1ef",
   "metadata": {},
   "outputs": [
    {
     "name": "stdout",
     "output_type": "stream",
     "text": [
      "{'type': 'Ponche', 'time': '', 'end_of_4th_measure': True, 'ponche_size': 'large', 'hint': None}\n"
     ]
    },
    {
     "data": {
      "text/plain": [
       "[None]"
      ]
     },
     "execution_count": 144,
     "metadata": {},
     "output_type": "execute_result"
    }
   ],
   "source": [
    "S.describe_musicality()"
   ]
  },
  {
   "cell_type": "code",
   "execution_count": 10,
   "id": "ff67e1fe-aeac-4d45-8359-c62b104e90fe",
   "metadata": {},
   "outputs": [
    {
     "data": {
      "text/html": [
       "<div>\n",
       "<style scoped>\n",
       "    .dataframe tbody tr th:only-of-type {\n",
       "        vertical-align: middle;\n",
       "    }\n",
       "\n",
       "    .dataframe tbody tr th {\n",
       "        vertical-align: top;\n",
       "    }\n",
       "\n",
       "    .dataframe thead th {\n",
       "        text-align: right;\n",
       "    }\n",
       "</style>\n",
       "<table border=\"1\" class=\"dataframe\">\n",
       "  <thead>\n",
       "    <tr style=\"text-align: right;\">\n",
       "      <th></th>\n",
       "      <th>song</th>\n",
       "      <th>artist</th>\n",
       "      <th>type</th>\n",
       "      <th>time</th>\n",
       "      <th>end_of_4th_measure</th>\n",
       "      <th>ponche_size</th>\n",
       "      <th>hint</th>\n",
       "      <th>test</th>\n",
       "    </tr>\n",
       "  </thead>\n",
       "  <tbody>\n",
       "    <tr>\n",
       "      <th>0</th>\n",
       "      <td>Modo Van Van</td>\n",
       "      <td>Formell y Los Van Van</td>\n",
       "      <td>Ponche</td>\n",
       "      <td>4:15</td>\n",
       "      <td>True</td>\n",
       "      <td>large</td>\n",
       "      <td>None</td>\n",
       "      <td>NaN</td>\n",
       "    </tr>\n",
       "    <tr>\n",
       "      <th>1</th>\n",
       "      <td>Modo Van Van</td>\n",
       "      <td>Formell y Los Van Van</td>\n",
       "      <td>Ponche</td>\n",
       "      <td>4:15</td>\n",
       "      <td>True</td>\n",
       "      <td>large</td>\n",
       "      <td>None</td>\n",
       "      <td>NaN</td>\n",
       "    </tr>\n",
       "    <tr>\n",
       "      <th>2</th>\n",
       "      <td>Modo Van Van</td>\n",
       "      <td>Formell y Los Van Van</td>\n",
       "      <td>NaN</td>\n",
       "      <td>NaN</td>\n",
       "      <td>NaN</td>\n",
       "      <td>NaN</td>\n",
       "      <td>NaN</td>\n",
       "      <td>test</td>\n",
       "    </tr>\n",
       "  </tbody>\n",
       "</table>\n",
       "</div>"
      ],
      "text/plain": [
       "           song                 artist    type  time end_of_4th_measure  \\\n",
       "0  Modo Van Van  Formell y Los Van Van  Ponche  4:15               True   \n",
       "1  Modo Van Van  Formell y Los Van Van  Ponche  4:15               True   \n",
       "2  Modo Van Van  Formell y Los Van Van     NaN   NaN                NaN   \n",
       "\n",
       "  ponche_size  hint  test  \n",
       "0       large  None   NaN  \n",
       "1       large  None   NaN  \n",
       "2         NaN   NaN  test  "
      ]
     },
     "execution_count": 10,
     "metadata": {},
     "output_type": "execute_result"
    }
   ],
   "source": [
    "pd.read_json('data.json')"
   ]
  },
  {
   "cell_type": "code",
   "execution_count": null,
   "id": "2d241ab9-4a0e-4c83-b0ca-79fc9216561e",
   "metadata": {},
   "outputs": [],
   "source": []
  }
 ],
 "metadata": {
  "kernelspec": {
   "display_name": "Python 3 (ipykernel)",
   "language": "python",
   "name": "python3"
  },
  "language_info": {
   "codemirror_mode": {
    "name": "ipython",
    "version": 3
   },
   "file_extension": ".py",
   "mimetype": "text/x-python",
   "name": "python",
   "nbconvert_exporter": "python",
   "pygments_lexer": "ipython3",
   "version": "3.12.2"
  }
 },
 "nbformat": 4,
 "nbformat_minor": 5
}
